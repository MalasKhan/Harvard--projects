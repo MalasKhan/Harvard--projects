{
  "nbformat": 4,
  "nbformat_minor": 0,
  "metadata": {
    "colab": {
      "provenance": [],
      "authorship_tag": "ABX9TyOOyRG7L5p2NEchenyaPUZM",
      "include_colab_link": true
    },
    "kernelspec": {
      "name": "python3",
      "display_name": "Python 3"
    },
    "language_info": {
      "name": "python"
    }
  },
  "cells": [
    {
      "cell_type": "markdown",
      "metadata": {
        "id": "view-in-github",
        "colab_type": "text"
      },
      "source": [
        "<a href=\"https://colab.research.google.com/github/MalasKhan/Harvard--projects/blob/main/Malas_Khan_Sir_faisal.ipynb\" target=\"_parent\"><img src=\"https://colab.research.google.com/assets/colab-badge.svg\" alt=\"Open In Colab\"/></a>"
      ]
    },
    {
      "cell_type": "markdown",
      "source": [
        "1) A company decided to give bonus of 5% to employee if his/her year of service is more than 5 years. Ask user for their salary and year of\n",
        "service and print the net bonus amount."
      ],
      "metadata": {
        "id": "ZNsVPvPner5N"
      }
    },
    {
      "cell_type": "code",
      "execution_count": null,
      "metadata": {
        "id": "evfjbVqIenTz"
      },
      "outputs": [],
      "source": [
        "salary = int(input(\"enter your salary: \"))\n",
        "service = input(\"How many years of service? \")"
      ]
    },
    {
      "cell_type": "markdown",
      "source": [
        "2) Write a program to check whether a person is eligible for voting or not. (accept age from user) if age is greater than 17 eligible otherwise not\n",
        "eligible"
      ],
      "metadata": {
        "id": "DIzt9ACje4_r"
      }
    },
    {
      "cell_type": "code",
      "source": [
        "age = int(input(\"enter your age\"))\n",
        "if age > 17:\n",
        "  print(\"eligible\")\n",
        "else:\n",
        "  print(\"not eligible\")"
      ],
      "metadata": {
        "id": "kkWV65ILfAKS"
      },
      "execution_count": null,
      "outputs": []
    },
    {
      "cell_type": "markdown",
      "source": [
        "3) Write a program to check whether a number entered by user is even or odd."
      ],
      "metadata": {
        "id": "O0KiQybtfAzr"
      }
    },
    {
      "cell_type": "code",
      "source": [
        "num = int(input(\"enter your num\"))\n",
        "if num % 2 == 0:\n",
        "  print(\"Even\")\n",
        "else:\n",
        "  print(\"odd\")"
      ],
      "metadata": {
        "id": "-C6rAQv0fGSc"
      },
      "execution_count": null,
      "outputs": []
    },
    {
      "cell_type": "markdown",
      "source": [
        "4) Write a program to check whether a number is divisible by 7 or not. Show Answer"
      ],
      "metadata": {
        "id": "hfvwH_WXfHHb"
      }
    },
    {
      "cell_type": "code",
      "source": [
        "num = int(input(\"enter your num\"))\n",
        "if num % 7 == 0:\n",
        "  print(\"Is Divisible\")\n",
        "else:\n",
        "  print(\"Not Divisible\")"
      ],
      "metadata": {
        "id": "U44g_5HBfLIZ"
      },
      "execution_count": null,
      "outputs": []
    },
    {
      "cell_type": "markdown",
      "source": [
        "5) Write a program to display \"Hello\" if a number entered by user is a multiple of five , otherwise print \"Bye\"."
      ],
      "metadata": {
        "id": "5cJwIybnfLN5"
      }
    },
    {
      "cell_type": "code",
      "source": [
        "num = int(input(\"enter your num\"))\n",
        "if num % 5 == 0:\n",
        "  print(\"Hello\")\n",
        "else:\n",
        "  print(\"Bye\")"
      ],
      "metadata": {
        "id": "PsxbShuVfOSR"
      },
      "execution_count": null,
      "outputs": []
    },
    {
      "cell_type": "markdown",
      "source": [
        "6) Write a program to calculate the electricity bill (accept number of unit from user) according to the following criteria : Unit Price\n",
        "uptp 100 units no charge Next 200 units Rs 5 per unit After 200 units Rs 10 per unit (For example if input unit is 350 than total bill amount is\n",
        "Rs.3500 (For example if input unit is 97 than total bill amount is Rs.0 (For example if input unit is 150 than total bill amount is Rs.750"
      ],
      "metadata": {
        "id": "xY96M2DUgErg"
      }
    },
    {
      "cell_type": "code",
      "source": [
        "\n",
        "units = int(input(\"enter the number of units\"))\n",
        "if units <= 100:\n",
        "  print(\"No charge\")\n",
        "elif units > 100 and units <= 300:\n",
        "  cost = (units - 100) * 5\n",
        "  print(f\"The cost of electricity is {cost}\")\n",
        "else:\n",
        "  cost = (units - 300) * 10 + 1000\n",
        "  print(f\"The cost of electricity is {cost}\")\n"
      ],
      "metadata": {
        "id": "0N_VPhk_gND2"
      },
      "execution_count": null,
      "outputs": []
    },
    {
      "cell_type": "markdown",
      "source": [
        "7) Write a program to display the last digit of a number.\n",
        "\n"
      ],
      "metadata": {
        "id": "j9qkZP-ufOax"
      }
    },
    {
      "cell_type": "code",
      "source": [
        "\n",
        "num = int(input(\"Enter a number: \"))\n",
        "last_digit = num % 10\n",
        "print(f\"The last digit of {num} is {last_digit}\")\n"
      ],
      "metadata": {
        "id": "pjanADf0fWMj"
      },
      "execution_count": null,
      "outputs": []
    },
    {
      "cell_type": "markdown",
      "source": [
        "Q8. Write a program to check whether the last digit of a number( entered by user ) is divisible by 3 or not."
      ],
      "metadata": {
        "id": "VhuYjRn6fWQx"
      }
    },
    {
      "cell_type": "code",
      "source": [
        "\n",
        "num = int(input(\"Enter a number: \"))\n",
        "last_digit = num % 10\n",
        "if last_digit % 3 == 0:\n",
        "  print(f\"The last digit of {num} is divisible by 3\")\n",
        "else:\n",
        "  print(f\"The last digit of {num} is not divisible by 3\")\n"
      ],
      "metadata": {
        "id": "3ZfLzM5sfYW4"
      },
      "execution_count": null,
      "outputs": []
    },
    {
      "cell_type": "markdown",
      "source": [
        "9) Take values of length and breadth of a rectangle from user and print if it is square or rectangle."
      ],
      "metadata": {
        "id": "EdY11792fXxw"
      }
    },
    {
      "cell_type": "code",
      "source": [
        "\n",
        "length = int(input(\"Enter the length of the rectangle: \"))\n",
        "breadth = int(input(\"Enter the breadth of the rectangle: \"))\n",
        "if length == breadth:\n",
        "  print(\"The rectangle is a square.\")\n",
        "else:\n",
        "  print(\"The rectangle is not a square.\")\n"
      ],
      "metadata": {
        "id": "XXgDBBC_fbPT"
      },
      "execution_count": null,
      "outputs": []
    },
    {
      "cell_type": "markdown",
      "source": [
        "10) Take two int values from user and print greatest among them.\n"
      ],
      "metadata": {
        "id": "ZVJng8y-fbjg"
      }
    },
    {
      "cell_type": "code",
      "source": [
        "val_1 = int(input(\"enter first value\"))\n",
        "val_2 = int(input(\"enter second value\"))\n",
        "if val_1 > val_2:\n",
        "  print(val_1)\n",
        "\n",
        "else:\n",
        "  print(val_2)"
      ],
      "metadata": {
        "id": "xPf64kE3fgnx"
      },
      "execution_count": null,
      "outputs": []
    },
    {
      "cell_type": "markdown",
      "source": [
        "11) A shop will give discount of 10% if the cost of purchased quantity is more than 1000. Ask user for quantity Suppose, one unit will cost 100.\n",
        "Judge and print total cost for user."
      ],
      "metadata": {
        "id": "TJkqOoSYfgxI"
      }
    },
    {
      "cell_type": "code",
      "source": [
        "\n",
        "cost_per_unit = 100\n",
        "quantity = int(input(\"Enter the quantity of items purchased: \"))\n",
        "total_cost = cost_per_unit * quantity\n",
        "if total_cost > 1000:\n",
        "  discount = total_cost * 0.1\n",
        "  net_cost = total_cost - discount\n",
        "  print(\"The net cost of the purchase is:\", net_cost)\n",
        "else:\n",
        "  print(\"The total cost of the purchase is:\", total_cost)\n"
      ],
      "metadata": {
        "id": "Ao5pqwrrfjpI"
      },
      "execution_count": null,
      "outputs": []
    },
    {
      "cell_type": "markdown",
      "source": [
        "12) A school has following rules for grading system:\n",
        "\n",
        "a. Below 25 - F\n",
        "\n",
        "b. 25 to 45 - E\n",
        "\n",
        "c. 45 to 50 - D\n",
        "\n",
        "d. 50 to 60 - C\n",
        "\n",
        "e. 60 to 80 - B\n",
        "\n",
        "f. Above 80 - A\n",
        "\n",
        "Ask user to enter marks and print the corresponding grade."
      ],
      "metadata": {
        "id": "H0cDKpA2fju4"
      }
    },
    {
      "cell_type": "code",
      "source": [
        "\n",
        "marks = int(input(\"Enter your marks: \"))\n",
        "if marks < 25:\n",
        "  print(\"Grade: F\")\n",
        "elif marks >= 25 and marks < 45:\n",
        "  print(\"Grade: E\")\n",
        "elif marks >= 45 and marks < 50:\n",
        "  print(\"Grade: D\")\n",
        "elif marks >= 50 and marks < 60:\n",
        "  print(\"Grade: C\")\n",
        "elif marks >= 60 and marks < 80:\n",
        "  print(\"Grade: B\")\n",
        "else:\n",
        "  print(\"Grade: A\")\n"
      ],
      "metadata": {
        "id": "LYsaXJ8efwr3"
      },
      "execution_count": null,
      "outputs": []
    },
    {
      "cell_type": "markdown",
      "source": [
        "13) Take input of age of 3 people by user and determine oldest and youngest among them."
      ],
      "metadata": {
        "id": "AOPuwDTzgU-2"
      }
    },
    {
      "cell_type": "code",
      "source": [
        "for _ in range(3):\n",
        "  age = int(input(\"Ener your age\"))\n",
        "  oldest = 0\n",
        "  yougest = 0\n",
        "  if age > oldest:\n",
        "    age = oldest\n",
        "  elif age < youngest:\n",
        "    age = youngest"
      ],
      "metadata": {
        "id": "8qLY-sw_geHd"
      },
      "execution_count": null,
      "outputs": []
    },
    {
      "cell_type": "markdown",
      "source": [
        "14)A student will not be allowed to sit in exam if his/her attendence is less than 75%.\n",
        "Take following input from user\n",
        "Number of classes held\n",
        "Number of classes attended.\n",
        "And print\n",
        "percentage of class attended\n",
        "Is student is allowed to sit in exam or not."
      ],
      "metadata": {
        "id": "X-08NvGwfw4H"
      }
    },
    {
      "cell_type": "code",
      "source": [
        "\n",
        "n=int(input(\"enter number of classes held\"))\n",
        "a=int(input(\"enter number of classes attended\"))\n",
        "p=(a/n)*100\n",
        "print(\"percentage of class attended:\",p)\n",
        "if p>=75:\n",
        "  print(\"student is allowed to sit in exam\")\n",
        "else:\n",
        "  print(\"student is not allowed to sit in exam\")\n"
      ],
      "metadata": {
        "id": "OovflGgIf1mJ"
      },
      "execution_count": null,
      "outputs": []
    },
    {
      "cell_type": "markdown",
      "source": [
        "15) Modify the above question to allow student to sit if he/she has medical cause. Ask user if he/she has medical cause or not ( 'Y' or 'N' ) and\n",
        "print accordingly."
      ],
      "metadata": {
        "id": "e2gYrowHf1v4"
      }
    },
    {
      "cell_type": "code",
      "source": [
        "\n",
        "n=int(input(\"enter number of classes held\"))\n",
        "a=int(input(\"enter number of classes attended\"))\n",
        "p=(a/n)*100\n",
        "print(\"percentage of class attended:\",p)\n",
        "if p>=75:\n",
        "  print(\"student is allowed to sit in exam\")\n",
        "elif input(\"Do you have medical cause? (Y/N) \") == \"Y\":\n",
        "  print(\"student is allowed to sit in exam\")\n",
        "else:\n",
        "  print(\"student is not allowed to sit in exam\")\n"
      ],
      "metadata": {
        "id": "rTMAwTFOf59C"
      },
      "execution_count": null,
      "outputs": []
    },
    {
      "cell_type": "markdown",
      "source": [
        "16) Write a program to check if a year is leap year or not.\n",
        "If a year is divisible by 4 then it is leap year but if the year is century year like 2000, 1900, 2100 then it must be divisible by 400."
      ],
      "metadata": {
        "id": "37ee4-RLf6Kp"
      }
    },
    {
      "cell_type": "code",
      "source": [
        "year = int(input(\"Enter a year: \"))\n",
        "if year % 400 == 0:\n",
        "  print(\"Leap year\")\n",
        "elif year % 100 == 0:\n",
        "  print(\"Not a leap year\")\n",
        "elif year % 4 == 0:\n",
        "  print(\"Leap year\")\n",
        "else:\n",
        "  print(\"Not a leap year\")\n"
      ],
      "metadata": {
        "id": "wkMXwRVlgBtQ"
      },
      "execution_count": null,
      "outputs": []
    },
    {
      "cell_type": "markdown",
      "source": [
        "17) Ask user to enter age, gender ( M or F ), marital status ( Y or N ) and then using following rules print their place of service.\n",
        "if employee is female, then she will work only in urban areas.\n",
        "if employee is a male and age is in between 20 to 40 then he may work in anywhere\n",
        "if employee is male and age is in between 40 t0 60 then he will work in urban areas only.\n",
        "And any other input of age should print \"ERROR\""
      ],
      "metadata": {
        "id": "CzuJoBS4gB1P"
      }
    },
    {
      "cell_type": "code",
      "source": [
        "age = int(input(\"Enter your age: \"))\n",
        "gender = input(\"Enter your gender (M or F): \")\n",
        "marital_status = input(\"Enter your marital status (Y or N): \")\n",
        "\n",
        "if gender == \"F\":\n",
        "  print(\"Your place of service is urban areas.\")\n",
        "elif gender == \"M\" and age >= 20 and age <= 40:\n",
        "  print(\"Your place of service can be anywhere.\")\n",
        "elif gender == \"M\" and age >= 40 and age <= 60:\n",
        "  print(\"Your place of service is urban areas.\")\n",
        "else:\n",
        "  print(\"ERROR\")\n"
      ],
      "metadata": {
        "id": "f6p_V-WfgElX"
      },
      "execution_count": null,
      "outputs": []
    }
  ]
}